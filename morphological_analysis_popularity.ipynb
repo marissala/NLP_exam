{
 "cells": [
  {
   "cell_type": "markdown",
   "metadata": {},
   "source": [
    "# Popular and unpopular posts\n",
    "## Finding words correlated with high popularity in posts"
   ]
  },
  {
   "cell_type": "code",
   "execution_count": 15,
   "metadata": {},
   "outputs": [
    {
     "data": {
      "text/plain": [
       "str"
      ]
     },
     "execution_count": 15,
     "metadata": {},
     "output_type": "execute_result"
    }
   ],
   "source": [
    "#with open(\"C:/Users/maris/Documents/Aarhus University/NLP/NLP exam/txt_fb_data.txt\", \"r\", encoding = \"utf-8\") as myfile:\n",
    "#    txt=myfile.read()\n",
    "    \n",
    "import pandas as pd\n",
    "from estnltk import Text\n",
    "\n",
    "txt = pd.read_csv(r'C:/Users/maris/Documents/Aarhus University/NLP/NLP exam/popular_posts.csv')\n",
    "contents = list(txt.Content)\n",
    "texty = ' '.join(contents)\n",
    "type(texty)"
   ]
  },
  {
   "cell_type": "code",
   "execution_count": 16,
   "metadata": {},
   "outputs": [
    {
     "data": {
      "text/html": [
       "<table border=\"1\" class=\"dataframe\">\n",
       "  <thead>\n",
       "    <tr style=\"text-align: right;\">\n",
       "      <th>text</th>\n",
       "    </tr>\n",
       "  </thead>\n",
       "  <tbody>\n",
       "    <tr>\n",
       "      <td><div align = \"left\">&lt;U+0001F437&gt;&lt;U+0001F60D&gt; SPAAPÄEV &lt;U+0001F60D&gt;&lt;U+0001F437&gt; Märgi kommentaaridesse sõber, kes peaks ka ühe lõõgastava spaapuhkuse ette võtma peale väsitavat pühademöllu &lt;U+2764&gt;&lt;U+FE0F&gt; Uuel aastal algab ka uus Taimetoidu Väljakutse! Proovi midagi täiesti uut &lt;U+2728&gt; Rohkem infot: http://www.2266.ee/. Video allikas: John Oberg &lt;U+0001F98A&gt;&lt;U+0001F60D&gt; LUMERÕÕM &lt;U+0001F60D&gt;&lt;U+0001F98A&gt; Kuigi meil siin Eestis lund ei ole, siis vaata, kuidas need armsad oranžid rebased lumerõõme naudivad. &lt;U+263A&gt;&lt;U+FE0F&gt;&lt;U+2744&gt;&lt;U+FE0F&gt; Jõulud on kohe ukse taga ja miks mitte teha üks suur-suur heategu hakates meie püsiannetajaks. &lt;U+0001F9E1&gt; Sinu annetusel on kümnekordne jõud. See tähendab, et valides annetuse summaks 10€, lisab meie suurannetaja omalt poolt veel 100€! &lt;U+0001F60D&gt; Rohkem infot püsiannetuse kohta: &lt;U+27A1&gt;&lt;U+FE0F&gt; https://riki.nahtamatudloomad.ee/ Video allikas: Savefox Rescue &lt;U+0001F42E&gt;&lt;U+2757&gt;&lt;U+FE0F&gt;MU EMA PIIM KUULUB MULLE! &lt;U+2757&gt;&lt;U+FE0F&gt;&lt;U+0001F42E&gt; Lehmad toodavad piima samal põhjusel nagu kõik imetajad, et toita enda järglasi. Kahjuks piimatööstuses ei saa emad oma lapsi kunagi imetada. &lt;U+0001F494&gt;&lt;U+0001F622&gt; Vasikad eraldatakse emadest tavaliselt juba sünnijärgse päeva jooksul, mis põhjustab mõlemale äärmiselt suurt stressi ja vasikad kasvavad üles peamiselt täispiimaasendajaga. Piimatootmise jätkamiseks viljastatakse emaseid lehmi pidevalt, mistõttu peavad nad seda hirmsat ringi uuesti ja uuesti läbi elama. &lt;U+0001F62D&gt; &lt;U+0001F4AA&gt; Sina saad aidata vähendada emade ja vasikate kannatusi! Hea võimalus selleks on tarbida taimset piima! &lt;U+0001F331&gt; Milline taimne piim võiks olla Sinu uus lemmik, vaata siit: &lt;U+27A1&gt;&lt;U+FE0F&gt; https://taimneteisipaev.ee/toidunipid/taimsed-piimad/ Aitäh, et hoolid loomadest! &lt;U+0001F970&gt;&lt;U+0001F42E&gt; &lt;U+0001F622&gt; OLE MINU VASTU HEA. ÄRA TEE PAUKU. &lt;U+0001F622&gt; “Jälle see aeg käes… Ma ei saa aru, mis toimub... Kas on alanud sõda? Ma ei suuda värisemist absoluutselt kontrollida ja need paugud teevad mu kõrvadele väga haiget. See ajab mind hulluks. Millal see juba ära lõppeb?” Paljude loomade jaoks on ilutulestikud õudusunenägu.&lt;U+0001F494&gt; Peale koduloomade kardavad pauku ka metsloomad ning loomaaia asukad, keda paljud ühes perega vaatamas käivad. &lt;U+0001F64C&gt; JAGA ÜLESKUTSET SÕPRADEGA, et vana-aasta õhtu laabuks loomadele kergemalt! &lt;U+0001F64C&gt; Ilutulestiku asemel tee hoopis annetus kodutute loomade varjupaigale või mõnele muule heategevuslikule organisatsioonile. &lt;U+0001F495&gt;&lt;U+0001F38A&gt; VÕIDA NUNNU KANAGA PLUUS!&lt;U+0001F495&gt;&lt;U+0001F929&gt; Loosis osalemiseks: &lt;U+0001F449&gt; märgi kommentaarides, mis numbriga on märgistatud ÕRREKANADE munad &lt;U+0001F449&gt; laigi Nähtamatud Loomad lehte &lt;U+0001F449&gt; jaga postitust oma seinal Kõigi osalejate vahel loosime välja armsa kanapildiga T-särgi, mille on disaininud Eesti disainer Krõõt Kukkur Illustrations! &lt;U+0001F425&gt;&lt;U+0001F970&gt; Võitja selgub esmaspäeval, 16. detsembril! &lt;U+0001F381&gt; &lt;U+0001F414&gt;&lt;U+0001F60D&gt;ÜKS SOE KALLISTUS TÄNASESSE PÄEVA &lt;U+0001F60D&gt;&lt;U+0001F414&gt; Kanad on väga targad ja armsad linnud! &lt;U+0001F495&gt; Täida tänane päev kallistusega ning valmista taimset toitu &lt;U+0001F331&gt; Palju ideid leiad: https://taimneteisipaev.ee/ Video allikas: SAFE &lt;U+0001F9E1&gt;&lt;U+0001F9E1&gt;&lt;U+0001F389&gt;TEGIME ÄRA! &lt;U+0001F389&gt; AASTA VABAÜHENDUS ON NÄHTAMATUD LOOMAD&lt;U+0001F9E1&gt;&lt;U+0001F9E1&gt; “Meie edu võti on meie vabatahtlikud ja toetajad, kes igapäevaselt loomade eest seisavad. Tänu tõhusale heategevusele ja edu mõttelaadile oleme saanud lühikese ajaga palju ära teha,” sõnas Nähtamatute Loomade asutaja ja president Kristina Mering. &lt;U+0001F449&gt;Loe lähemalt: https://nahtamatudloomad.ee/aasta-vabauhendus-2019 &lt;U+0001F495&gt;&lt;U+0001F43D&gt; KOOS EMAGA ON PAREM! &lt;U+0001F43D&gt;&lt;U+0001F495&gt; See rahulolev põrsas tunneb ennast koos emaga olles üdini kaitstult ja armastatult. &lt;U+263A&gt;&lt;U+FE0F&gt;&lt;U+0001F437&gt; &lt;U+0001F416&gt; Lihatööstuses peetavad sead ei saa aga kunagi elada täisväärtuslikku elu, mida nad väärivad. &lt;U+0001F625&gt;Kahjuks ootab neid armsaid põrsaid peale sündi ees karm saatus. Põrsastel lõigatakse ilma valuvaigistiteta sabad ja hambad ning nad kastreeritakse. Ka ei näe nad enda ema enam mitte kunagi! &lt;U+0001F62D&gt; Astu väike samm sigade aitamiseks ning proovi mõnel korral nädalas taimseid roogasid! &lt;U+0001F4AA&gt;&lt;U+263A&gt;&lt;U+FE0F&gt; &lt;U+0001F951&gt;&lt;U+0001F331&gt;Maitsvaid retsepte pühade eel leiad Taimse Teisipäeva lehelt &lt;U+27A1&gt;&lt;U+FE0F&gt; https://taimneteisipaev.ee/retseptid/ Aitäh, et aitad parandada sigade heaolu Eestis! &lt;U+0001F437&gt;&lt;U+0001F495&gt; &lt;U+0001F973&gt;&lt;U+0001F389&gt;SUUREPÄRASED UUDISED! &lt;U+0001F38A&gt;&lt;U+0001F4AF&gt; Esimest korda on Eesti organisatsioon hinnatud üheks tõhusamaks loomakaitseorganisatsiooniks maailmas! &lt;U+2705&gt;See organisatsioon oleme meie! &lt;U+0001F62E&gt;&lt;U+0001F389&gt; Juba rohkem kui kaks aastat järjest oleme kasutanud teaduspõhist lähenemist, et muuta tuhandete loomade elusid paremuse poole. &lt;U+0001F98A&gt;&lt;U+0001F414&gt; Kuid need võidud poleks olnud võimalikud ilma Sinusuguste heade inimeste toeta! &lt;U+2764&gt;&lt;U+FE0F&gt; Loe lähemalt meie kodulehelt, kuidas me iga päev loomade heaolu nimel tegutseme ning millega me selle olulise auhinna välja teenisime: &lt;U+27A1&gt;&lt;U+FE0F&gt; https://nahtamatudloomad.ee/nahtamatud-loomad-valiti-maailm… &lt;U+0001F414&gt;&lt;U+0001F495&gt;KANAD ON VÄGA MÄNGUHIMULISED LINNUD&lt;U+0001F495&gt;&lt;U+0001F414&gt; Kas oled kunagi näinud kana palli mängimas? Vaata, kui lõbus neil seda teha on! &lt;U+0001F60D&gt;&lt;U+2764&gt;&lt;U+FE0F&gt; Tähista 1. adventi mõne taimse roaga! &lt;U+2728&gt;&lt;U+0001F384&gt;Rohkelt ideid selleks leiad: https://taimneteisipaev.ee Video allikas: John Oberg &lt;U+26C4&gt;&lt;U+FE0F&gt;&lt;U+2744&gt;&lt;U+FE0F&gt; KES SINU SÕPRADEST OOTAB JUBA LUND? &lt;U+2744&gt;&lt;U+FE0F&gt;&lt;U+26C4&gt;&lt;U+FE0F&gt; &lt;U+0001F60D&gt; Paljud inimesed arvavad, et kanad kardavad külma. Kas teadsid, et tegelikult meeldib neilegi lumes möllata? &lt;U+0001F414&gt;&lt;U+0001F425&gt; Foto: Kim Dunlap #kanadonägedad &lt;3 HEAD RAHVUSVAHELIST KARUSNAHAVABA PÄEVA! &lt;3 JAGA seda pilti, kui arvad, et karusnahk on kõige ilusam ainult looma seljas! #aitankarusloomi #nähtamatudloomad #karusloomafarmidajalukku «Need kaadrid karusloomafarmidest näitavad karusnahatööstuse suhtumist loomadesse. Ühes farmis olid surnud naaritsakutsikad kukkunud puurivõrede vahelt maha ja jäetud sinna lebama,» sõnas Merit Valge, Nähtamatute Loomade karusloomafarmide keelustamise kampaaniajuht. «Kuna surnud loomade pealt ei saa kasumit, ei viidud neid isegi oma ema pilgu alt ära, vaid heideti lihtsalt kõrvale kui praht. Mõned loomad olid hakanud juba lagunema, teised olid kaetud parasiitidega.» Nähtamatud Loomad Leedus avalikustas värsked kaadrid karusloomafarmide õudustest Uurimuse käigus leiti farmidest vigastatud naaritsad, kelle haavades elutsesid parasiidid, teineteist elusalt söövad loomad, surnud loomad, kes olid prügina vedelema jäetud, suured väljaheitelombid loomade puuride all ning palju muud nõuetele mittevastavat. Ühes farmis peeti ligi 3000 naaritsat niivõrd väikestes puurides, et Leedu seaduste kohaselt liigitub see loomade väärkohtlemise alla. Kohalik Veterinaaramet trahvis ettevõtet nõuete rikkumise eest. Kolmes teises karusloomafarmis peeti samuti loomi liiga väikestes puurides, millele järgneb trahv Veterinaarameti poolt. “Need kaadrid karusloomafarmidest näitavad karusnahatööstuse suhtumist loomadesse. Ühes farmis olid surnud naaritsakutsikad kukkunud puurivõrede vahelt maha ja jäetud sinna lebama. Kuna surnud loomade pealt ei saa kasumit, ei viidud neid isegi oma ema pilgu alt ära, vaid heideti lihtsalt kõrvale kui praht. Mõned loomad olid hakanud juba lagunema, teised olid kaetud parasiitidega,” kommenteeris Merit Valge, Nähtamatute Loomade karusloomafarmide keelustamise kampaaniajuht. Naaritsad on metsloomad, mis teeb neile puurielu olemuslikult sobimatuks, kuna neil puudub võimalus tegleda põhivabadustega nagu ujumine, pesaloomine, toidu jahtimine ja mängimine. Paljud loomad lähevad puurielust hulluks, sest veedavad terve elu metallist kastis ning muutuvad selle tagajärjel agressiivseks. Neil loomadel, keda rünnatakse teiste poolt, puudub võimalus pageda hullunud puurikaaslaste eest. Eelmisel aastal esit</br></br>&lt;skipping 8989 characters&gt;</br></br>i üle, ega keegi end seal sees ei peida! &lt;U+0001F525&gt;&lt;U+0001F994&gt; JAGA seda postitust, et ka sõbrad-tuttavad teaksid siile tähele panna! &lt;U+0001F447&gt; &lt;U+0001F495&gt;VASIKAD KUULUVAD EMALE!&lt;U+0001F404&gt;&lt;U+0001F495&gt; Lehmad on võimelised looma väga südamlikke sõprussidemeid! Seetõttu on nad väga õnnetud ja satuvad stressi, kui lähedastest eraldatakse. &lt;U+0001F622&gt;&lt;U+0001F494&gt; Uuringud näitavad, et mullika südame löögisagedus ja stressitase on palju madalam, kui tema kõrval seisab talle juba tuttav liigikaaslane! &lt;U+263A&gt;&lt;U+FE0F&gt; Kahjuks saavad piimatööstuse vasikad enda emaga veeta vaid mõne tunni, enne kui nad teineteisest lõplikult lahutatakse. See tähendab, et alles sündinud vasikas ei näe oma ema enam mitte kunagi. &lt;U+0001F494&gt; Sina saad neid sotsiaalseid ja intelligentseid loomi aidata, kui langetad enda menüüs järjest rohkem taimseid valikuid! &lt;U+0001F4AA&gt; Huvitavaid retsepte leiad näiteks Taimne Teisipäev lehelt: taimneteisipaev.ee/retseptid Aitäh, et hoolid loomadest! &lt;U+2764&gt;&lt;U+FE0F&gt;</div></td>\n",
       "    </tr>\n",
       "  </tbody>\n",
       "</table>"
      ],
      "text/plain": [
       "Text(text='<U+0001F437><U+0001F60D> SPAAPÄEV <U+0001F60D><U+0001F437> Märgi kommentaaridesse sõber, kes peaks ka ühe lõõgastava spaapuhkuse ette võtma peale väsitavat pühademöllu <U+2764><U+FE0F> Uuel aastal algab ka uus Taimetoidu Väljakutse! Proovi midagi täiesti uut <U+2728> Rohkem infot: http://www.2266.ee/. Video allikas: John Oberg <U+0001F98A><U+0001F60D> LUMERÕÕM <U+0001F60D><U+0001F98A> Kuigi meil siin Eestis lund ei ole, siis vaata, kuidas need armsad oranžid rebased lumerõõme naudivad. <U+263A><U+FE0F><U+2744><U+FE0F> Jõulud on kohe ukse taga ja miks mitte teha üks suur-suur heategu hakates meie püsiannetajaks. <U+0001F9E1> Sinu annetusel on kümnekordne jõud. See tähendab, et valides annetuse summaks 10€, lisab meie suurannetaja omalt poolt veel 100€! <U+0001F60D> Rohkem infot püsiannetuse kohta: <U+27A1><U+FE0F> https://riki.nahtamatudloomad.ee/ Video allikas: Savefox Rescue <U+0001F42E><U+2757><U+FE0F>MU EMA PIIM KUULUB MULLE! <U+2757><U+FE0F><U+0001F42E> Lehmad toodavad piima samal põhjusel nagu kõik imetajad, et toita enda järglasi. Kahjuks piimatööstuses ei saa emad oma lapsi kunagi imetada. <U+0001F494><U+0001F622> Vasikad eraldatakse emadest tavaliselt juba sünnijärgse päeva jooksul, mis põhjustab mõlemale äärmiselt suurt stressi ja vasikad kasvavad üles peamiselt täispiimaasendajaga. Piimatootmise jätkamiseks viljastatakse emaseid lehmi pidevalt, mistõttu peavad nad seda hirmsat ringi uuesti ja uuesti läbi elama. <U+0001F62D> <U+0001F4AA> Sina saad aidata vähendada emade ja vasikate kannatusi! Hea võimalus selleks on tarbida taimset piima! <U+0001F331> Milline taimne piim võiks olla Sinu uus lemmik, vaata siit: <U+27A1><U+FE0F> https://taimneteisipaev.ee/toidunipid/taimsed-piimad/ Aitäh, et hoolid loomadest! <U+0001F970><U+0001F42E> <U+0001F622> OLE MINU VASTU HEA. ÄRA TEE PAUKU. <U+0001F622> “Jälle see aeg käes… Ma ei saa aru, mis toimub... Kas on alanud sõda? Ma ei suuda värisemist absoluutselt kontrollida ja need paugud teevad mu kõrvadele väga haiget. See ajab mind hulluks. Millal see juba ära lõppeb?” Paljude loomade jaoks on ilutulestikud õudusunenägu.<U+0001F494> Peale koduloomade kardavad pauku ka metsloomad ning loomaaia asukad, keda paljud ühes perega vaatamas käivad. <U+0001F64C> JAGA ÜLESKUTSET SÕPRADEGA, et vana-aasta õhtu laabuks loomadele kergemalt! <U+0001F64C> Ilutulestiku asemel tee hoopis annetus kodutute loomade varjupaigale või mõnele muule heategevuslikule organisatsioonile. <U+0001F495><U+0001F38A> VÕIDA NUNNU KANAGA PLUUS!<U+0001F495><U+0001F929> Loosis osalemiseks: <U+0001F449> märgi kommentaarides, mis numbriga on märgistatud ÕRREKANADE munad <U+0001F449> laigi Nähtamatud Loomad lehte <U+0001F449> jaga postitust oma seinal Kõigi osalejate vahel loosime välja armsa kanapildiga T-särgi, mille on disaininud Eesti disainer Krõõt Kukkur Illustrations! <U+0001F425><U+0001F970> Võitja selgub esmaspäeval, 16. detsembril! <U+0001F381> <U+0001F414><U+0001F60D>ÜKS SOE KALLISTUS TÄNASESSE PÄEVA <U+0001F60D><U+0001F414> Kanad on väga targad ja armsad linnud! <U+0001F495> Täida tänane päev kallistusega ning valmista taimset toitu <U+0001F331> Palju ideid leiad: https://taimneteisipaev.ee/ Video allikas: SAFE <U+0001F9E1><U+0001F9E1><U+0001F389>TEGIME ÄRA! <U+0001F389> AASTA VABAÜHENDUS ON NÄHTAMATUD LOOMAD<U+0001F9E1><U+0001F9E1> “Meie edu võti on meie vabatahtlikud ja toetajad, kes igapäevaselt loomade eest seisavad. Tänu tõhusale heategevusele ja edu mõttelaadile oleme saanud lühikese ajaga palju ära teha,” sõnas Nähtamatute Loomade asutaja ja president Kristina Mering. <U+0001F449>Loe lähemalt: https://nahtamatudloomad.ee/aasta-vabauhendus-2019 <U+0001F495><U+0001F43D> KOOS EMAGA ON PAREM! <U+0001F43D><U+0001F495> See rahulolev põrsas tunneb ennast koos emaga olles üdini kaitstult ja armastatult. <U+263A><U+FE0F><U+0001F437> <U+0001F416> Lihatööstuses peetavad sead ei saa aga kunagi elada täisväärtuslikku elu, mida nad väärivad. <U+0001F625>Kahjuks ootab neid armsaid põrsaid peale sündi ees karm saatus. Põrsastel lõigatakse ilma valuvaigistiteta sabad ja hambad ning nad kastreeritakse. Ka ei näe nad enda ema enam mitte kunagi! <U+0001F62D> Astu väike samm sigade aitamiseks ning proovi mõnel korral nädalas taimseid roogasid! <U+0001F4AA><U+263A><U+FE0F> <U+0001F951><U+0001F331>Maitsvaid retsepte pühade eel leiad Taimse Teisipäeva lehelt <U+27A1><U+FE0F> https://taimneteisipaev.ee/retseptid/ Aitäh, et aitad parandada sigade heaolu Eestis! <U+0001F437><U+0001F495> <U+0001F973><U+0001F389>SUUREPÄRASED UUDISED! <U+0001F38A><U+0001F4AF> Esimest korda on Eesti organisatsioon hinnatud üheks tõhusamaks loomakaitseorganisatsiooniks maailmas! <U+2705>See organisatsioon oleme meie! <U+0001F62E><U+0001F389> Juba rohkem kui kaks aastat järjest oleme kasutanud teaduspõhist lähenemist, et muuta tuhandete loomade elusid paremuse poole. <U+0001F98A><U+0001F414> Kuid need võidud poleks olnud võimalikud ilma Sinusuguste heade inimeste toeta! <U+2764><U+FE0F> Loe lähemalt meie kodulehelt, kuidas me iga päev loomade heaolu nimel tegutseme ning millega me selle olulise auhinna välja teenisime: <U+27A1><U+FE0F> https://nahtamatudloomad.ee/nahtamatud-loomad-valiti-maailm… <U+0001F414><U+0001F495>KANAD ON VÄGA MÄNGUHIMULISED LINNUD<U+0001F495><U+0001F414> Kas oled kunagi näinud kana palli mängimas? Vaata, kui lõbus neil seda teha on! <U+0001F60D><U+2764><U+FE0F> Tähista 1. adventi mõne taimse roaga! <U+2728><U+0001F384>Rohkelt ideid selleks leiad: https://taimneteisipaev.ee Video allikas: John Oberg <U+26C4><U+FE0F><U+2744><U+FE0F> KES SINU SÕPRADEST OOTAB JUBA LUND? <U+2744><U+FE0F><U+26C4><U+FE0F> <U+0001F60D> Paljud inimesed arvavad, et kanad kardavad külma. Kas teadsid, et tegelikult meeldib neilegi lumes möllata? <U+0001F414><U+0001F425> Foto: Kim Dunlap #kanadonägedad <3 HEAD RAHVUSVAHELIST KARUSNAHAVABA PÄEVA! <3 JAGA seda pilti, kui arvad, et karusnahk on kõige ilusam ainult looma seljas! #aitankarusloomi #nähtamatudloomad #karusloomafarmidajalukku «Need kaadrid karusloomafarmidest näitavad karusnahatööstuse suhtumist loomadesse. Ühes farmis olid surnud naaritsakutsikad kukkunud puurivõrede vahelt maha ja jäetud sinna lebama,» sõnas Merit Valge, Nähtamatute Loomade karusloomafarmide keelustamise kampaaniajuht. «Kuna surnud loomade pealt ei saa kasumit, ei viidud neid isegi oma ema pilgu alt ära, vaid heideti lihtsalt kõrvale kui praht. Mõned loomad olid hakanud juba lagunema, teised olid kaetud parasiitidega.» Nähtamatud Loomad Leedus avalikustas värsked kaadrid karusloomafarmide õudustest Uurimuse käigus leiti farmidest vigastatud naaritsad, kelle haavades elutsesid parasiidid, teineteist elusalt söövad loomad, surnud loomad, kes olid prügina vedelema jäetud, suured väljaheitelombid loomade puuride all ning palju muud nõuetele mittevastavat. Ühes farmis peeti ligi 3000 naaritsat niivõrd väikestes puurides, et Leedu seaduste kohaselt liigitub see loomade väärkohtlemise alla. Kohalik Veterinaaramet trahvis ettevõtet nõuete rikkumise eest. Kolmes teises karusloomafarmis peeti samuti loomi liiga väikestes puurides, millele järgneb trahv Veterinaarameti poolt. “Need kaadrid karusloomafarmidest näitavad karusnahatööstuse suhtumist loomadesse. Ühes farmis olid surnud naaritsakutsikad kukkunud puurivõrede vahelt maha ja jäetud sinna lebama. Kuna surnud loomade pealt ei saa kasumit, ei viidud neid isegi oma ema pilgu alt ära, vaid heideti lihtsalt kõrvale kui praht. Mõned loomad olid hakanud juba lagunema, teised olid kaetud parasiitidega,” kommenteeris Merit Valge, Nähtamatute Loomade karusloomafarmide keelustamise kampaaniajuht. Naaritsad on metsloomad, mis teeb neile puurielu olemuslikult sobimatuks, kuna neil puudub võimalus tegleda põhivabadustega nagu ujumine, pesaloomine, toidu jahtimine ja mängimine. Paljud loomad lähevad puurielust hulluks, sest veedavad terve elu metallist kastis ning muutuvad selle tagajärjel agressiivseks. Neil loomadel, keda rünnatakse teiste poolt, puudub võimalus pageda hullunud puurikaaslaste eest. Eelmisel aastal esitati Leedu parlamendis eelnõu keelustada karusloomafarmid. Hetkel ootab eelnõu oma järjekorda aruteluks ja hääletuseks. Üha enam poliitikuid on sõnastanud oma toetust karusloomafarmide keelustamisele. Leedu toodab aastas 1.5 miljonit naaritsanahka. Nähtamatud Loomad esitab lähinädalatel ka Eesti parlamendile suurima digiallkirjadega petitsiooni, mis Eesti ajaloos kogutud - 6161 digiallkirja karusloomafarmide keelustamise toetuseks. Riigikogu hakkab menetlema karusloomafarmide keelustamise kodanikualgatust uuel aastal. 2019. aasta sügisel Kantar Emori poolt läbi viidud uuringu kohaselt toetab 70% eestlastest karusloomafarmide keelustamist Eestis. Loe lisa: https://nahtamatudloomad.ee/sokeerivad-kaadrid-leedu-karusl… Selver ähvardab vaba pressi! <U+0001F62E> Oleme viimased kuud üritanud pidada läbirääkimisi Tallinna Kaubamaja Grupiga, kelle alla kuulub ka Selver koos Tallinna ja Tartu Kaubamaja toidumaailmaga, kes keeldub kategooriliselt puurikanade munade müügist loobumisest aastaks 2025. Loe blogist, mis täpsemalt toimub: https://nahtamatudloomad.ee/selver-ahvardab-vaba-pressi <U+0001F42E><U+0001F495>IGA ELU ON HINNALINE! <U+0001F495><U+0001F42E> Lehmad on väga tähelepanelikud, kaitsvad ja armastavad vanemad! <U+0001F60A> Võimaluse korral kannab ema vasika eest hoolt lausa kolm aastat, kuid vanemlik side kestab elu lõpuni. <U+203C><U+FE0F>Kahjuks eraldatakse piimatööstuses vasikad emadest juba 1-3 ööpäeva jooksul, mis tähendab, et nad ei näe oma ema enam mitte kunagi ja peavad tundma üksindust, stressi ja hirmu. <U+0001F622> Noored isased tapetakse sageli kohe pärast sündi või neid peetakse kuni tapmiseks soovitud massi / vanuseni. <U+0001F62D>Emasloomi peetakse, kuni nad on piisavalt küpsed ja valmis saama lüpsilehmaks, et seda hirmsat ringi uuesti jätkata. Sina saad seda julma süsteemi muuta ja vähendada emade ja laste kannatusi! <U+0001F4AA><U+0001F495> <U+0001F34F><U+0001F33D><U+0001F336>Hea võimalus selleks on liituda juba detsembris 22/66 Taimetoidu Väljakutsega <U+27A1><U+FE0F> https://www.2266.ee/ Proovi 22 päeva järjest taimset toitumist - täiesti tasuta!<U+0001F44D> Aitäh, et hoolid loomadest! <U+0001F495><U+0001F60A> Foto: Andrew Skowron Postimees kajastab Nähtamatute Loomade tänast meeleavaldust puurikanade kaitseks, et Selver ja Kaubamaja teataksid üleminekust puurivabade munade müügile. Aitäh kõigile osalejatele! <U+0001F4AA> <U+0001F437><U+0001F60D>KAS KA SINA VEEDAD OMA PÜHAPÄEVA SAMAMOODI?<U+0001F60D><U+0001F437> Vaata, kui armas see väike põrsas on <U+0001F970> Kas ta meenutab sulle ennast täna hommikul või oled hoopis varajane linnuke? <U+0001F60A><U+2600><U+FE0F> Veeda tänane päev endale kallite inimeste seltsis ja proovi valmistada mõnda head taimset rooga <U+0001F929><U+0001F331> Palju ideid kokkamiseks leiad: https://taimneteisipaev.ee Video allikas: UNILAD KARUSLOOMAD ON SINU SÕBRAD, MITTE RIIETUSESEMED!<U+0001F98A><U+0001F9E5> Ilmad muutuvad iga päevaga järjest külmemaks, kuid ära unusta mõelda meie armsatele karusloomadele.<U+2744><U+FE0F><U+0001F499> <U+26D4><U+FE0F>Ära kanna karusnahka!<U+26D4><U+FE0F>Leia karusnahksete mütside-kasukate asemel loomasõbralikke alternatiive. Aitäh, et hoolid loomadest! Sinu neljajalgsed sõbrad on Sulle väga tänulikud.<U+0001F9E1><U+0001F49B> www.aitankarusloomi.ee KUTSIKAS JA PÕRSAS VEEDAVAD LAUPÄEVA HOMMIKU KOOS <U+0001F437><U+0001F970> Kas teadsid, et sead on erakordselt intelligentsed loomad ning neid peetakse tihti isegi targemaks kui 3-aastast inimlast? <U+0001F62E> Paljud sead ei jõua eal oma intelligentsi maksimaalsele tasmele, sest nad veedavad terve elu kitsastes seasulgudes, et lõpetada pakendatud lihana poeletil. <U+0001F62D><U+0001F953><U+0001F494> Liitu Taimetoidu Väljakutsega: <U+0001F966> https://www.2266.ee/ Video allikas: boohoo.com <U+0001F43E> MILLINE ON ILUTULESTIKU MÕJU LOOMADELE? <U+0001F43E> <U+0001F431> Ilutulestikust ja sellest, kui traumeerivalt see inimesest palju teravama kuulmisega koertele ja kassidele mõjub, saab rääkida pea igal aastal enne aastavahetust ja pole seegi aasta erand, kuid tänu Haapsalu rahvale, on saluudi asemel taevasse ilmumas lootuskiir. arutleb Kaupo Meiel. <U+0001F436> <U+2753>MIS SINA ARVAD, KAS ILUTULESTIKUST VÕIKS LOOBUDA?<U+2753> <U+0001F60D><U+0001F42E>NII NUNNU! FARMIVANGISTUSEST PÄÄSTETUD LOOMAD ON NII ÕNNELIKUD<U+0001F42E><U+0001F60D> Vaata, kui õnnelikud on need päästetud loomad on <U+0001F60A><U+2764><U+FE0F> <U+0001F917><U+0001F495>Poleks kunagi arvanud, et nad nii mänguhimulised võivad olla <U+0001F917><U+0001F495> Video allikas: Naturee <U+0001F42E> KES SINU SÕPRADEST ON KÕIGE SUUREM LOOMASÕBER? <U+0001F437> <U+0001F447> Anna meile teada all kommentaarides <U+0001F447> <U+0001F60A>LIKE, KUI USUD, ET KÕIK LOOMAD VÄÄRIVAD ARMASTUST! <U+0001F60A> Kas teadsid, et sead on äärmiselt sotsiaalsed loomad? Nad on võimelised looma omavahel väga lähedasi suhted. Sead naudivad puudutusi ja üksteise kõrval pikutamist! <U+0001F43D><U+0001F495> Lihatööstuses peetavad sead ei saa aga kunagi elada täisväärtuslikku elu. Kahjuks elavad nad tihti ilma allapanuta betoonpinnasel, kitsastes sulgudes, kus neil pole võimalus tuhnida, käia väljas ega jahutada end mudas.<U+0001F494> Koos Sinuga saame neid armsaid ja tundlikke loomi aidata! Proovi näiteks taimseid roogasid! Suure valiku retsepte leiad Taimse Teisipäeva lehelt: https://taimneteisipaev.ee/retseptid/ <U+0001F352> <U+0001F929><U+0001F973> INGLISMAA KUNINGANNA ELIZABETH II LOOBUB KARUSNAHAST! <U+0001F973><U+0001F929> <U+0001F98A> “Kui juba 93-aastane kuninganna on valmis muutuma, suudame seda kõik. Karusnahk on ääretult julm ja keskkonnavaenulik materjal, mis ei kuulu enam moeteadliku naise garderoobi. Anname endast parima, et Eesti sulgeks karusloomafarmid peagi, “ sõnas loomakaitseorganisatsiooni Nähtamatud Loomad karusloomafarmide keelustamise kampaaniajuht Merit Valge. <U+0001F4AA> <U+0001F447> LOE SIIT <U+0001F447> <U+2757><U+FE0F>AINUKE VAHE ON SUHTUMISES! <U+2757><U+FE0F><U+0001F625> Kõik loomad väärivad võrdset kohtlemist ja hoolt! Kas teadsid, et sigu peetakse isegi koertest intelligentsemateks?<U+0001F43D> Kahjuks peavad aga sead veetma kogu oma elu kitsas seasulus ning ei saa pooltki nii palju hoolt ja tähelepanu kui vajaks. <U+0001F494> Sina saad aidata parandada sigade heaolu Eestis, langetades järjest rohkem taimseid vaikuid! <U+0001F34E> Hea võimalus selleks on liituda näiteks 22/66 Taimetoidu Väljakutsega: https://www.2266.ee/ Proovi 22 päeva järjest taimset toitumist - täiesti tasuta! Aitäh, et hoolid loomadest! <U+0001F49B> <U+0001F60D><U+0001F437>VAATA, KUI ÕNNELIKUD NEED PÄÄSTETUD SEAD ON<U+0001F437><U+0001F60D> Need armsad päästetud notsud on nii õnnelikud ja saavad vabalt ringi joosta. Valmista sel nädalal taimset toitu<U+0001F331><U+0001F495> Rohkem retsepte võid leida veebiaadressilt: https://taimneteisipaev.ee Video allikas: Animal Place Nähtamatud Loomad korraldas täna protesti Selveri ees ja jagas Selveri klientidele sadu informatiivseid lendlehti puurikanade olukorra kohta munatööstuses. Lisaks vurab ringi meie hiiglaslik treilerreklaam, mis kutsub üles kanade heaolust hoolima. <U+0001F414><U+2764> Nähtamatud Loomad ei anna alla, kuni Selver teatab otsusest minna üle puurivabade munade müügile nagu seda koostöös meiega juba 40% Eesti jaekettidest teinud on! <U+0001F4AA> Aitäh kõigile toetajatele! Tänu teie panusele saame üheskoos nõrgemaid kaitsta ja loomade heaolu eest seista! <U+2764> #sydametuselver #tulevikonpuurivaba #kanadväärivadparemat #vastutustundlikettevõtlus #volunteer #animalwelfare #cagefree #emptythecages <U+0001F389>LÄTI SUURUSELT TEINE KARUSLOOMAFARM SULGEB UKSED!<U+0001F973> Karusloomaturul valitseva kriisi pärast pidi ka Läti suuruselt teine karusloomafarm Grobina teatama, et sulgeb pankroti tõttu oma uksed.<U+0001F4AA> Karusloomakasvatusel on suur madalseis üle maailma, nahkade hinnad on väga madalad ja üha rohkem farme sulgevad oma uksi. Seega on väga tähtis, et jätkuks töö selle nimel, et ka Eesti karusloomafarmid keelustataks!<U+0001F98A><U+2764><U+FE0F> Loe lähemalt karusloomafarmidest Eestis<U+0001F447>: https://nahtamatudloomad.ee/karusloomafarmid-ajalukku <U+2764><U+FE0F><U+0001F986>OLULINE SAMM LINDUDE JAOKS!<U+0001F986><U+2764><U+FE0F> New Yorgi nõukogu võttis vastu otsuse hane ja pardi rasvmaksa ehk foie gras´ müügi keelustamise selle piinarikka tootmise tõttu <U+0001F44F>. Julm delikatess kaob USA elanikerohkeima linna restoranidest ja jaekettidest aastaks 2022! <U+0001F389> Kuigi Eestis on foie gras’ tootmine keelatud, on sellega kauplemine siiski lubatud <U+0001F62D>. Üle poole meie elanikkonnast on aga selle jõhkral viisil toodetud “hõrgutise” vastu, mistõttu alustab Nähtamatud Loomad läbirääkimisi restoranide ja jaekettidega, et foie gras´ müük Eestis lõppeks. <U+2705> Vaata lähemalt: https://nahtamatudloomad.ee/new-york-keelustab-foie-gras-mu… #nähtamatudloomad #pardid #haned <U+0001F342><U+0001F341>ILUS KULDNE SÜGIS ON JÄLLE KÄES! <U+0001F342><U+0001F341> Enne lehe- või oksahunniku süütamist kontrolli üle, ega keegi end seal sees ei peida! <U+0001F525><U+0001F994> JAGA seda postitust, et ka sõbrad-tuttavad teaksid siile tähele panna! <U+0001F447> <U+0001F495>VASIKAD KUULUVAD EMALE!<U+0001F404><U+0001F495> Lehmad on võimelised looma väga südamlikke sõprussidemeid! Seetõttu on nad väga õnnetud ja satuvad stressi, kui lähedastest eraldatakse. <U+0001F622><U+0001F494> Uuringud näitavad, et mullika südame löögisagedus ja stressitase on palju madalam, kui tema kõrval seisab talle juba tuttav liigikaaslane! <U+263A><U+FE0F> Kahjuks saavad piimatööstuse vasikad enda emaga veeta vaid mõne tunni, enne kui nad teineteisest lõplikult lahutatakse. See tähendab, et alles sündinud vasikas ei näe oma ema enam mitte kunagi. <U+0001F494> Sina saad neid sotsiaalseid ja intelligentseid loomi aidata, kui langetad enda menüüs järjest rohkem taimseid valikuid! <U+0001F4AA> Huvitavaid retsepte leiad näiteks Taimne Teisipäev lehelt: taimneteisipaev.ee/retseptid Aitäh, et hoolid loomadest! <U+2764><U+FE0F>')"
      ]
     },
     "execution_count": 16,
     "metadata": {},
     "output_type": "execute_result"
    }
   ],
   "source": [
    "text = Text(texty)\n",
    "text"
   ]
  },
  {
   "cell_type": "code",
   "execution_count": 21,
   "metadata": {},
   "outputs": [],
   "source": [
    "text_morph = text.tag_layer()\n",
    "\n",
    "morphed = text_morph['morph_analysis']"
   ]
  },
  {
   "cell_type": "markdown",
   "metadata": {},
   "source": [
    "## Parts-of-speech\n",
    "Write into a dataframe"
   ]
  },
  {
   "cell_type": "code",
   "execution_count": 24,
   "metadata": {},
   "outputs": [],
   "source": [
    "with open('morph_pos_popular.txt', 'w') as f:\n",
    "    for item in morphed.partofspeech:\n",
    "        f.write(\"%s\\n\" % item)"
   ]
  },
  {
   "cell_type": "markdown",
   "metadata": {},
   "source": [
    "Same for unpopular texts"
   ]
  },
  {
   "cell_type": "code",
   "execution_count": 27,
   "metadata": {},
   "outputs": [],
   "source": [
    "txt2 = pd.read_csv(r'C:/Users/maris/Documents/Aarhus University/NLP/NLP exam/unpopular_posts.csv')\n",
    "contents2 = list(txt2.Content)\n",
    "texty2 = ' '.join(contents2)\n",
    "\n",
    "text2 = Text(texty2)\n",
    "text_morph2 = text2.tag_layer()\n",
    "\n",
    "morphed2 = text_morph2['morph_analysis']"
   ]
  },
  {
   "cell_type": "code",
   "execution_count": 28,
   "metadata": {},
   "outputs": [],
   "source": [
    "with open('morph_pos_unpopular.txt', 'w') as f:\n",
    "    for item in morphed2.partofspeech:\n",
    "        f.write(\"%s\\n\" % item)"
   ]
  },
  {
   "cell_type": "markdown",
   "metadata": {},
   "source": [
    "## Nouns"
   ]
  },
  {
   "cell_type": "code",
   "execution_count": 36,
   "metadata": {},
   "outputs": [],
   "source": [
    "# Popular nouns\n",
    "#my_text1 = Text(txt)\n",
    "#my_text1.tag_layer()\n",
    "noun_lemmas = []\n",
    "for lemma, postag in zip(text_morph.lemma, text_morph.partofspeech):\n",
    "    if 'S' in postag:\n",
    "        noun_lemmas += lemma\n",
    "# Unpopular nouns\n",
    "noun_lemmas2 = []\n",
    "for lemma, postag in zip(text_morph2.lemma, text_morph2.partofspeech):\n",
    "    if 'S' in postag:\n",
    "        noun_lemmas2 += lemma"
   ]
  },
  {
   "cell_type": "code",
   "execution_count": 37,
   "metadata": {},
   "outputs": [],
   "source": [
    "with open('nouns_popular.txt', 'w') as f:\n",
    "    for item in noun_lemmas:\n",
    "        f.write(\"%s\\n\" % item)"
   ]
  },
  {
   "cell_type": "code",
   "execution_count": 38,
   "metadata": {},
   "outputs": [],
   "source": [
    "with open('nouns_unpopular.txt', 'w') as f:\n",
    "    for item in noun_lemmas2:\n",
    "        f.write(\"%s\\n\" % item)"
   ]
  },
  {
   "cell_type": "markdown",
   "metadata": {},
   "source": [
    "## Find unique words"
   ]
  },
  {
   "cell_type": "code",
   "execution_count": 42,
   "metadata": {},
   "outputs": [],
   "source": [
    "# Words that are in noun_lemmas (popular posts), but aren't in noun_lemmas2\n",
    "popular_unique = [s for s in noun_lemmas if s not in noun_lemmas2]\n",
    "with open('unique_popular.txt', 'w') as f:\n",
    "    for item in popular_unique:\n",
    "        f.write(\"%s\\n\" % item)"
   ]
  },
  {
   "cell_type": "code",
   "execution_count": 43,
   "metadata": {},
   "outputs": [],
   "source": [
    "unpopular_unique = [s for s in noun_lemmas2 if s not in noun_lemmas]\n",
    "with open('unique_unpopular.txt', 'w') as f:\n",
    "    for item in unpopular_unique:\n",
    "        f.write(\"%s\\n\" % item)"
   ]
  },
  {
   "cell_type": "code",
   "execution_count": null,
   "metadata": {},
   "outputs": [],
   "source": []
  }
 ],
 "metadata": {
  "kernelspec": {
   "display_name": "Python 3",
   "language": "python",
   "name": "python3"
  },
  "language_info": {
   "codemirror_mode": {
    "name": "ipython",
    "version": 3
   },
   "file_extension": ".py",
   "mimetype": "text/x-python",
   "name": "python",
   "nbconvert_exporter": "python",
   "pygments_lexer": "ipython3",
   "version": "3.6.9"
  }
 },
 "nbformat": 4,
 "nbformat_minor": 2
}
